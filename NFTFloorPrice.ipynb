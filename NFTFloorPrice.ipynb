{
 "cells": [
  {
   "cell_type": "code",
   "execution_count": 25,
   "id": "d8374b54-1be6-4826-abf1-721ab6c2b6cb",
   "metadata": {},
   "outputs": [],
   "source": [
    "import pandas as pd\n",
    "import numpy as np\n",
    "import requests\n",
    "import json"
   ]
  },
  {
   "cell_type": "code",
   "execution_count": 13,
   "id": "e83614c3-9ad9-45f5-99d8-be9a47a3107b",
   "metadata": {},
   "outputs": [
    {
     "name": "stdout",
     "output_type": "stream",
     "text": [
      "success\n"
     ]
    }
   ],
   "source": [
    "api_key = 'x'\n"
   ]
  },
  {
   "cell_type": "code",
   "execution_count": 45,
   "id": "dbcffcb0-f44d-4b36-8a97-34a8b9657a92",
   "metadata": {},
   "outputs": [
    {
     "name": "stdout",
     "output_type": "stream",
     "text": [
      "bored-ape-yacht-club\n",
      "success\n",
      "impostors-genesis-aliens\n",
      "success\n",
      "neotokyo-citizens\n",
      "success\n",
      "goonsofbalatroon\n",
      "success\n"
     ]
    }
   ],
   "source": [
    "slugs = ['bored-ape-yacht-club', 'impostors-genesis-aliens', 'neotokyo-citizens','goonsofbalatroon']\n",
    "temp = []\n",
    "for s in slugs:\n",
    "    url = 'https://api.nftpricefloor.com/api/projects/' + s+ '/charts/1d?qapikey=x'\n",
    "    print(s)\n",
    "    response = requests.get(url)\n",
    "    if response.status_code == 200:\n",
    "        # Print the response content\n",
    "        print('success')\n",
    "        df = pd.DataFrame(response.json())\n",
    "        df['Date'] = pd.to_datetime(df['timestamps'], unit='ms').dt.strftime('%Y-%m-%d')\n",
    "        temp.append(df[['slug', 'floorUsd', 'Date']])\n",
    "    else:\n",
    "        print('Failed to fetch data. for ', s )"
   ]
  },
  {
   "cell_type": "code",
   "execution_count": 46,
   "id": "676a2f8a-7d65-48c3-b99d-c5d0e62ad02a",
   "metadata": {},
   "outputs": [],
   "source": [
    "nfts = pd.concat(temp)"
   ]
  },
  {
   "cell_type": "code",
   "execution_count": 47,
   "id": "6a74ac3e-d0be-4cc1-a569-83736d941fc3",
   "metadata": {},
   "outputs": [],
   "source": [
    "nfts = nfts.rename(columns={'slug': 'NFT'})"
   ]
  },
  {
   "cell_type": "code",
   "execution_count": 48,
   "id": "66cdf6b9-b751-47de-9ae8-658801ce66cf",
   "metadata": {},
   "outputs": [
    {
     "data": {
      "text/html": [
       "<div>\n",
       "<style scoped>\n",
       "    .dataframe tbody tr th:only-of-type {\n",
       "        vertical-align: middle;\n",
       "    }\n",
       "\n",
       "    .dataframe tbody tr th {\n",
       "        vertical-align: top;\n",
       "    }\n",
       "\n",
       "    .dataframe thead th {\n",
       "        text-align: right;\n",
       "    }\n",
       "</style>\n",
       "<table border=\"1\" class=\"dataframe\">\n",
       "  <thead>\n",
       "    <tr style=\"text-align: right;\">\n",
       "      <th></th>\n",
       "      <th>NFT</th>\n",
       "      <th>floorUsd</th>\n",
       "      <th>Date</th>\n",
       "    </tr>\n",
       "  </thead>\n",
       "  <tbody>\n",
       "    <tr>\n",
       "      <th>0</th>\n",
       "      <td>bored-ape-yacht-club</td>\n",
       "      <td>96109.364000</td>\n",
       "      <td>2022-11-07</td>\n",
       "    </tr>\n",
       "    <tr>\n",
       "      <th>1</th>\n",
       "      <td>bored-ape-yacht-club</td>\n",
       "      <td>97185.691900</td>\n",
       "      <td>2022-11-08</td>\n",
       "    </tr>\n",
       "    <tr>\n",
       "      <th>2</th>\n",
       "      <td>bored-ape-yacht-club</td>\n",
       "      <td>91030.211800</td>\n",
       "      <td>2022-11-09</td>\n",
       "    </tr>\n",
       "    <tr>\n",
       "      <th>3</th>\n",
       "      <td>bored-ape-yacht-club</td>\n",
       "      <td>81767.457000</td>\n",
       "      <td>2022-11-10</td>\n",
       "    </tr>\n",
       "    <tr>\n",
       "      <th>4</th>\n",
       "      <td>bored-ape-yacht-club</td>\n",
       "      <td>59960.005200</td>\n",
       "      <td>2022-11-11</td>\n",
       "    </tr>\n",
       "    <tr>\n",
       "      <th>...</th>\n",
       "      <td>...</td>\n",
       "      <td>...</td>\n",
       "      <td>...</td>\n",
       "    </tr>\n",
       "    <tr>\n",
       "      <th>536</th>\n",
       "      <td>goonsofbalatroon</td>\n",
       "      <td>50.920996</td>\n",
       "      <td>2024-04-26</td>\n",
       "    </tr>\n",
       "    <tr>\n",
       "      <th>537</th>\n",
       "      <td>goonsofbalatroon</td>\n",
       "      <td>55.048416</td>\n",
       "      <td>2024-04-27</td>\n",
       "    </tr>\n",
       "    <tr>\n",
       "      <th>538</th>\n",
       "      <td>goonsofbalatroon</td>\n",
       "      <td>54.758224</td>\n",
       "      <td>2024-04-28</td>\n",
       "    </tr>\n",
       "    <tr>\n",
       "      <th>539</th>\n",
       "      <td>goonsofbalatroon</td>\n",
       "      <td>57.500309</td>\n",
       "      <td>2024-04-29</td>\n",
       "    </tr>\n",
       "    <tr>\n",
       "      <th>540</th>\n",
       "      <td>goonsofbalatroon</td>\n",
       "      <td>57.075597</td>\n",
       "      <td>2024-04-30</td>\n",
       "    </tr>\n",
       "  </tbody>\n",
       "</table>\n",
       "<p>1955 rows × 3 columns</p>\n",
       "</div>"
      ],
      "text/plain": [
       "                      NFT      floorUsd        Date\n",
       "0    bored-ape-yacht-club  96109.364000  2022-11-07\n",
       "1    bored-ape-yacht-club  97185.691900  2022-11-08\n",
       "2    bored-ape-yacht-club  91030.211800  2022-11-09\n",
       "3    bored-ape-yacht-club  81767.457000  2022-11-10\n",
       "4    bored-ape-yacht-club  59960.005200  2022-11-11\n",
       "..                    ...           ...         ...\n",
       "536      goonsofbalatroon     50.920996  2024-04-26\n",
       "537      goonsofbalatroon     55.048416  2024-04-27\n",
       "538      goonsofbalatroon     54.758224  2024-04-28\n",
       "539      goonsofbalatroon     57.500309  2024-04-29\n",
       "540      goonsofbalatroon     57.075597  2024-04-30\n",
       "\n",
       "[1955 rows x 3 columns]"
      ]
     },
     "execution_count": 48,
     "metadata": {},
     "output_type": "execute_result"
    }
   ],
   "source": [
    "nfts"
   ]
  },
  {
   "cell_type": "code",
   "execution_count": 49,
   "id": "e398af9e-8fa2-4788-966e-14df98b64545",
   "metadata": {},
   "outputs": [],
   "source": [
    "caveWorld = open('nftCoins/CaveWorld.json')\n",
    "b_cave =  json.load(caveWorld)\n",
    "\n",
    "nft_info = []\n",
    "for b in b_cave['stats']:\n",
    "    c = {}\n",
    "    c['Date'] = b[0]\n",
    "    c['floorUsd'] = b[1]\n",
    "    c['NFT'] = 'CAVEWORLD'\n",
    "    nft_info.append(c)\n",
    "    \n",
    "liveNft = pd.DataFrame(nft_info)\n",
    "liveNft['Date'] = pd.to_datetime(liveNft['Date'], unit='ms').dt.strftime('%Y-%m-%d')"
   ]
  },
  {
   "cell_type": "code",
   "execution_count": 50,
   "id": "6dd065ef-45ee-43d4-a571-86ffaf5a17ce",
   "metadata": {},
   "outputs": [],
   "source": [
    "finalNfts = pd.concat([liveNft, nfts])\n",
    "finalNfts['Date'] = pd.to_datetime(finalNfts['Date'])"
   ]
  },
  {
   "cell_type": "code",
   "execution_count": 51,
   "id": "0545ab1b-5e24-43cc-9bfb-33e889abad02",
   "metadata": {},
   "outputs": [],
   "source": [
    "finalNfts.sort_values(by = 'Date', inplace=True)"
   ]
  },
  {
   "cell_type": "code",
   "execution_count": 52,
   "id": "f54d7a49-a125-42ef-a9c9-d407d38c5593",
   "metadata": {},
   "outputs": [],
   "source": [
    "#finalNfts = finalNfts[finalNfts['Date'] >= '2023-02-02']\n",
    "finalNfts = finalNfts[finalNfts['Date'] < '2024-04-25']"
   ]
  },
  {
   "cell_type": "code",
   "execution_count": 53,
   "id": "4b3f21cb-6ff9-4b33-937a-62f3af02e3be",
   "metadata": {},
   "outputs": [
    {
     "data": {
      "text/html": [
       "<div>\n",
       "<style scoped>\n",
       "    .dataframe tbody tr th:only-of-type {\n",
       "        vertical-align: middle;\n",
       "    }\n",
       "\n",
       "    .dataframe tbody tr th {\n",
       "        vertical-align: top;\n",
       "    }\n",
       "\n",
       "    .dataframe thead th {\n",
       "        text-align: right;\n",
       "    }\n",
       "</style>\n",
       "<table border=\"1\" class=\"dataframe\">\n",
       "  <thead>\n",
       "    <tr style=\"text-align: right;\">\n",
       "      <th></th>\n",
       "      <th>Date</th>\n",
       "      <th>floorUsd</th>\n",
       "      <th>NFT</th>\n",
       "    </tr>\n",
       "  </thead>\n",
       "  <tbody>\n",
       "    <tr>\n",
       "      <th>0</th>\n",
       "      <td>2022-11-07</td>\n",
       "      <td>562.450000</td>\n",
       "      <td>impostors-genesis-aliens</td>\n",
       "    </tr>\n",
       "    <tr>\n",
       "      <th>0</th>\n",
       "      <td>2022-11-07</td>\n",
       "      <td>218.741000</td>\n",
       "      <td>goonsofbalatroon</td>\n",
       "    </tr>\n",
       "    <tr>\n",
       "      <th>0</th>\n",
       "      <td>2022-11-07</td>\n",
       "      <td>96109.364000</td>\n",
       "      <td>bored-ape-yacht-club</td>\n",
       "    </tr>\n",
       "    <tr>\n",
       "      <th>1</th>\n",
       "      <td>2022-11-08</td>\n",
       "      <td>206.121320</td>\n",
       "      <td>goonsofbalatroon</td>\n",
       "    </tr>\n",
       "    <tr>\n",
       "      <th>1</th>\n",
       "      <td>2022-11-08</td>\n",
       "      <td>500.278130</td>\n",
       "      <td>impostors-genesis-aliens</td>\n",
       "    </tr>\n",
       "    <tr>\n",
       "      <th>...</th>\n",
       "      <td>...</td>\n",
       "      <td>...</td>\n",
       "      <td>...</td>\n",
       "    </tr>\n",
       "    <tr>\n",
       "      <th>534</th>\n",
       "      <td>2024-04-24</td>\n",
       "      <td>38737.989000</td>\n",
       "      <td>bored-ape-yacht-club</td>\n",
       "    </tr>\n",
       "    <tr>\n",
       "      <th>534</th>\n",
       "      <td>2024-04-24</td>\n",
       "      <td>53.134077</td>\n",
       "      <td>goonsofbalatroon</td>\n",
       "    </tr>\n",
       "    <tr>\n",
       "      <th>534</th>\n",
       "      <td>2024-04-24</td>\n",
       "      <td>623.889464</td>\n",
       "      <td>impostors-genesis-aliens</td>\n",
       "    </tr>\n",
       "    <tr>\n",
       "      <th>474</th>\n",
       "      <td>2024-04-24</td>\n",
       "      <td>38.463585</td>\n",
       "      <td>CAVEWORLD</td>\n",
       "    </tr>\n",
       "    <tr>\n",
       "      <th>325</th>\n",
       "      <td>2024-04-24</td>\n",
       "      <td>24435.992700</td>\n",
       "      <td>neotokyo-citizens</td>\n",
       "    </tr>\n",
       "  </tbody>\n",
       "</table>\n",
       "<p>2406 rows × 3 columns</p>\n",
       "</div>"
      ],
      "text/plain": [
       "          Date      floorUsd                       NFT\n",
       "0   2022-11-07    562.450000  impostors-genesis-aliens\n",
       "0   2022-11-07    218.741000          goonsofbalatroon\n",
       "0   2022-11-07  96109.364000      bored-ape-yacht-club\n",
       "1   2022-11-08    206.121320          goonsofbalatroon\n",
       "1   2022-11-08    500.278130  impostors-genesis-aliens\n",
       "..         ...           ...                       ...\n",
       "534 2024-04-24  38737.989000      bored-ape-yacht-club\n",
       "534 2024-04-24     53.134077          goonsofbalatroon\n",
       "534 2024-04-24    623.889464  impostors-genesis-aliens\n",
       "474 2024-04-24     38.463585                 CAVEWORLD\n",
       "325 2024-04-24  24435.992700         neotokyo-citizens\n",
       "\n",
       "[2406 rows x 3 columns]"
      ]
     },
     "execution_count": 53,
     "metadata": {},
     "output_type": "execute_result"
    }
   ],
   "source": [
    "finalNfts"
   ]
  },
  {
   "cell_type": "code",
   "execution_count": 54,
   "id": "016121d7-f9bf-44b7-9733-651b0a84d58e",
   "metadata": {},
   "outputs": [],
   "source": [
    "finalNfts.to_csv('NFTprices.csv')"
   ]
  },
  {
   "cell_type": "code",
   "execution_count": null,
   "id": "53e9f14b-582b-4bb6-8340-a61081cbee2d",
   "metadata": {},
   "outputs": [],
   "source": []
  }
 ],
 "metadata": {
  "kernelspec": {
   "display_name": "Python 3 (ipykernel)",
   "language": "python",
   "name": "python3"
  },
  "language_info": {
   "codemirror_mode": {
    "name": "ipython",
    "version": 3
   },
   "file_extension": ".py",
   "mimetype": "text/x-python",
   "name": "python",
   "nbconvert_exporter": "python",
   "pygments_lexer": "ipython3",
   "version": "3.11.6"
  }
 },
 "nbformat": 4,
 "nbformat_minor": 5
}
